{
 "cells": [
  {
   "cell_type": "markdown",
   "metadata": {},
   "source": [
    "GAN REFERENCES:\n",
    "- http://www.rricard.me/machine/learning/generative/adversarial/networks/2017/04/05/gans-part1.html\n",
    "\n",
    "- https://medium.com/datadriveninvestor/generative-adversarial-network-gan-using-keras-ce1c05cfdfd3\n",
    "\n",
    "\n",
    "GAN TIPS AND TRICKS:\n",
    "\n",
    "-https://medium.com/@utk.is.here/keep-calm-and-train-a-gan-pitfalls-and-tips-on-training-generative-adversarial-networks-edd529764aa9"
   ]
  },
  {
   "cell_type": "code",
   "execution_count": 1,
   "metadata": {
    "collapsed": false
   },
   "outputs": [
    {
     "name": "stderr",
     "output_type": "stream",
     "text": [
      "C:\\Users\\Moondra\\AppData\\Local\\Programs\\Python\\Python36\\lib\\site-packages\\h5py\\__init__.py:34: FutureWarning: Conversion of the second argument of issubdtype from `float` to `np.floating` is deprecated. In future, it will be treated as `np.float64 == np.dtype(float).type`.\n",
      "  from ._conv import register_converters as _register_converters\n",
      "Using TensorFlow backend.\n"
     ]
    }
   ],
   "source": [
    "import numpy as np\n",
    "import pandas as pd\n",
    "import matplotlib.pyplot as plt\n",
    "%matplotlib inline\n",
    "from keras.layers import Dense, Dropout, Input, BatchNormalization\n",
    "from keras.models import Model,Sequential\n",
    "from keras.datasets import mnist\n",
    "from tqdm import tqdm\n",
    "from keras.layers.advanced_activations import LeakyReLU\n",
    "from keras.optimizers import adam"
   ]
  },
  {
   "cell_type": "code",
   "execution_count": null,
   "metadata": {
    "collapsed": true
   },
   "outputs": [],
   "source": []
  },
  {
   "cell_type": "code",
   "execution_count": 2,
   "metadata": {
    "collapsed": true
   },
   "outputs": [],
   "source": [
    "def load_data():\n",
    "    (x_train, y_train), (x_test, y_test) = mnist.load_data()\n",
    "    # scale to between -1 and 1\n",
    "    x_train = (x_train.astype(np.float32) - 127.5)/127.5\n",
    "    # convert 3d to 2d\n",
    "    x_train = x_train.reshape(60000, 784)\n",
    "    return x_train, y_train, x_test, y_test\n"
   ]
  },
  {
   "cell_type": "code",
   "execution_count": 3,
   "metadata": {
    "collapsed": true
   },
   "outputs": [],
   "source": [
    "x_train, y_train, x_test, y_test = load_data()"
   ]
  },
  {
   "cell_type": "code",
   "execution_count": 4,
   "metadata": {
    "collapsed": false
   },
   "outputs": [
    {
     "name": "stdout",
     "output_type": "stream",
     "text": [
      "(60000, 784)\n"
     ]
    }
   ],
   "source": [
    "print(x_train.shape)"
   ]
  },
  {
   "cell_type": "code",
   "execution_count": 5,
   "metadata": {
    "collapsed": true
   },
   "outputs": [],
   "source": [
    "x_train_show = x_train.reshape(60000, 28, 28)"
   ]
  },
  {
   "cell_type": "code",
   "execution_count": 6,
   "metadata": {
    "collapsed": false
   },
   "outputs": [
    {
     "data": {
      "image/png": "[encoded data removed]",
      "text/plain": [
       "<matplotlib.figure.Figure at 0x160f2a90>"
      ]
     },
     "metadata": {},
     "output_type": "display_data"
    }
   ],
   "source": [
    "for i in range(1,50):\n",
    "    plt.subplot(7, 7, i)\n",
    "    plt.axis('off')\n",
    "    plt.imshow(x_train_show[i])\n",
    "\n",
    "plt.show()"
   ]
  },
  {
   "cell_type": "code",
   "execution_count": 7,
   "metadata": {
    "collapsed": false
   },
   "outputs": [
    {
     "name": "stdout",
     "output_type": "stream",
     "text": [
      "_________________________________________________________________\n",
      "Layer (type)                 Output Shape              Param #   \n",
      "=================================================================\n",
      "input_1 (InputLayer)         (None, 100)               0         \n",
      "_________________________________________________________________\n",
      "dense_1 (Dense)              (None, 256)               25856     \n",
      "_________________________________________________________________\n",
      "leaky_re_lu_1 (LeakyReLU)    (None, 256)               0         \n",
      "_________________________________________________________________\n",
      "dense_2 (Dense)              (None, 512)               131584    \n",
      "_________________________________________________________________\n",
      "leaky_re_lu_2 (LeakyReLU)    (None, 512)               0         \n",
      "_________________________________________________________________\n",
      "dense_3 (Dense)              (None, 1024)              525312    \n",
      "_________________________________________________________________\n",
      "leaky_re_lu_3 (LeakyReLU)    (None, 1024)              0         \n",
      "_________________________________________________________________\n",
      "dense_4 (Dense)              (None, 784)               803600    \n",
      "=================================================================\n",
      "Total params: 1,486,352\n",
      "Trainable params: 1,486,352\n",
      "Non-trainable params: 0\n",
      "_________________________________________________________________\n"
     ]
    }
   ],
   "source": [
    "def create_generator(input_dim = 100):\n",
    "    adam_optimizer = adam(lr=0.0002, beta_1=0.5)\n",
    "    input_layer = Input(shape = (input_dim,))\n",
    "    x =(Dense(units=256))(input_layer)\n",
    "    x = LeakyReLU(0.2) (x)\n",
    "    \n",
    "    x =(Dense(units=512))(x)\n",
    "    x = LeakyReLU(0.2) (x)\n",
    "    \n",
    "    x =(Dense(units= 1024))(x)\n",
    "    x = LeakyReLU(0.2) (x)\n",
    "    \n",
    "    x =(Dense(units=784, activation='tanh'))(x)\n",
    "    \n",
    "    generator = Model(inputs = input_layer, outputs =  x)\n",
    "    \n",
    "    generator.compile(loss='binary_crossentropy', optimizer= adam_optimizer)\n",
    "    return generator\n",
    "\n",
    "g=create_generator()\n",
    "g.summary()"
   ]
  },
  {
   "cell_type": "code",
   "execution_count": null,
   "metadata": {
    "collapsed": true
   },
   "outputs": [],
   "source": []
  },
  {
   "cell_type": "code",
   "execution_count": 8,
   "metadata": {
    "collapsed": false
   },
   "outputs": [
    {
     "name": "stdout",
     "output_type": "stream",
     "text": [
      "_________________________________________________________________\n",
      "Layer (type)                 Output Shape              Param #   \n",
      "=================================================================\n",
      "input_2 (InputLayer)         (None, 784)               0         \n",
      "_________________________________________________________________\n",
      "dense_5 (Dense)              (None, 1024)              803840    \n",
      "_________________________________________________________________\n",
      "leaky_re_lu_4 (LeakyReLU)    (None, 1024)              0         \n",
      "_________________________________________________________________\n",
      "dropout_1 (Dropout)          (None, 1024)              0         \n",
      "_________________________________________________________________\n",
      "dense_6 (Dense)              (None, 512)               524800    \n",
      "_________________________________________________________________\n",
      "leaky_re_lu_5 (LeakyReLU)    (None, 512)               0         \n",
      "_________________________________________________________________\n",
      "dropout_2 (Dropout)          (None, 512)               0         \n",
      "_________________________________________________________________\n",
      "dense_7 (Dense)              (None, 256)               131328    \n",
      "_________________________________________________________________\n",
      "leaky_re_lu_6 (LeakyReLU)    (None, 256)               0         \n",
      "_________________________________________________________________\n",
      "dropout_3 (Dropout)          (None, 256)               0         \n",
      "_________________________________________________________________\n",
      "dense_8 (Dense)              (None, 1)                 257       \n",
      "=================================================================\n",
      "Total params: 1,460,225\n",
      "Trainable params: 1,460,225\n",
      "Non-trainable params: 0\n",
      "_________________________________________________________________\n"
     ]
    }
   ],
   "source": [
    "def create_discriminator(input_dim = 784):\n",
    "    adam_optimizer = adam(lr=0.0002, beta_1=0.5)\n",
    "    input_layer = Input(shape = (input_dim,))\n",
    "    x = Dense(units= 1024)(input_layer)\n",
    "    x = LeakyReLU(0.2)(x)\n",
    "    x = Dropout(0.3)(x)\n",
    "       \n",
    "    x =(Dense(units= 512))(x)\n",
    "    x = LeakyReLU(0.2) (x)\n",
    "    x = Dropout(0.3)(x)\n",
    "       \n",
    "    x =Dense(units= 256)(x)\n",
    "    x = LeakyReLU(0.2) (x)\n",
    "    x = Dropout(0.3)(x)\n",
    "    \n",
    "    output = (Dense(units=1, activation='sigmoid'))(x)\n",
    "    discriminator = Model(inputs = input_layer, outputs = output)\n",
    "    discriminator.compile(loss='binary_crossentropy', optimizer=  adam_optimizer)\n",
    "    return discriminator\n",
    "\n",
    "d =create_discriminator()\n",
    "d.summary()"
   ]
  },
  {
   "cell_type": "code",
   "execution_count": null,
   "metadata": {
    "collapsed": true
   },
   "outputs": [],
   "source": [
    "            "
   ]
  },
  {
   "cell_type": "code",
   "execution_count": 10,
   "metadata": {
    "collapsed": true
   },
   "outputs": [],
   "source": [
    "#Note needed\n",
    "\n",
    "def pretrain_discriminator(batch_size, input_size, epochs, plot = False):\n",
    "    \n",
    "    losses = []\n",
    "    d = create_discriminator(input_dim = input_size)\n",
    "    for i in range(epochs):\n",
    "        print(\"Epoch %d\"  % i)\n",
    "        random_fake_data = np.random.normal(loc=0, scale=1, size=[batch_size, input_size])\n",
    "        real_data= x_train[np.random.randint(low=0,high=x_train.shape[0],size=batch_size)]\n",
    "    \n",
    "        X= np.concatenate([real_data, random_fake_data])\n",
    "        Y =np.zeros(2*batch_size)\n",
    "        Y[:batch_size]=0.9 #label smoothing\n",
    "        \n",
    "        loss = d.train_on_batch(X, Y)\n",
    "        print(loss)\n",
    "        losses.append(loss)\n",
    "        \n",
    "    if plot:\n",
    "        \n",
    "        plt.plot(range(epochs), losses, label =  \"discrimin_loss\")\n",
    "        plt.show()\n",
    "    \n",
    "    return d\n",
    "        \n",
    "\n"
   ]
  },
  {
   "cell_type": "code",
   "execution_count": null,
   "metadata": {
    "collapsed": true
   },
   "outputs": [],
   "source": [
    "pretrain_discriminator(64, 784, 8)"
   ]
  },
  {
   "cell_type": "code",
   "execution_count": 11,
   "metadata": {
    "collapsed": true
   },
   "outputs": [],
   "source": [
    "def create_gan(discriminator, generator):\n",
    "    discriminator.trainable=False\n",
    "    GAN = Sequential()\n",
    "    GAN.add(generator)\n",
    "    GAN.add(discriminator)\n",
    "    GAN.compile(loss='binary_crossentropy', optimizer='adam')\n",
    "    return GAN\n"
   ]
  },
  {
   "cell_type": "code",
   "execution_count": 12,
   "metadata": {
    "collapsed": false
   },
   "outputs": [],
   "source": [
    "GAN = create_gan(d, g)"
   ]
  },
  {
   "cell_type": "code",
   "execution_count": 13,
   "metadata": {
    "collapsed": false
   },
   "outputs": [
    {
     "name": "stdout",
     "output_type": "stream",
     "text": [
      "_________________________________________________________________\n",
      "Layer (type)                 Output Shape              Param #   \n",
      "=================================================================\n",
      "model_1 (Model)              (None, 784)               1486352   \n",
      "_________________________________________________________________\n",
      "model_2 (Model)              (None, 1)                 1460225   \n",
      "=================================================================\n",
      "Total params: 2,946,577\n",
      "Trainable params: 1,486,352\n",
      "Non-trainable params: 1,460,225\n",
      "_________________________________________________________________\n",
      "None\n"
     ]
    }
   ],
   "source": [
    "print(GAN.summary())"
   ]
  },
  {
   "cell_type": "code",
   "execution_count": 14,
   "metadata": {
    "collapsed": true
   },
   "outputs": [],
   "source": [
    "def plot_generated_images(epoch, generator, examples=100, dim=(10,10), figsize=(10,10)):\n",
    "    noise= np.random.uniform(low = -1, high=1, size=[examples, 100])\n",
    "    generated_images = generator.predict(noise)\n",
    "    generated_images = generated_images.reshape(100,28,28)\n",
    "    plt.figure(figsize=figsize)\n",
    "    for i in range(examples):\n",
    "        plt.subplot(dim[0], dim[1], i+1)\n",
    "        plt.imshow(generated_images[i], interpolation='nearest')\n",
    "        plt.axis('off')\n",
    "    plt.tight_layout()\n",
    "    plt.savefig('gan_generated_image %d.png' %epoch)"
   ]
  },
  {
   "cell_type": "code",
   "execution_count": null,
   "metadata": {
    "collapsed": false
   },
   "outputs": [
    {
     "name": "stdout",
     "output_type": "stream",
     "text": [
      "Epoch 100\n",
      "Epoch 200\n",
      "d_loss 0.5272736\n",
      "g_loss 2.0853577\n"
     ]
    }
   ],
   "source": [
    "def training(epochs= 10, batch_size=128):\n",
    "    d_loss = []\n",
    "    g_loss = []\n",
    "    \n",
    "    # Loading the data\n",
    "    (x_train, y_train, x_test, y_test) = load_data()\n",
    "    batch_count = x_train.shape[0] / batch_size\n",
    "    \n",
    "    # Creating GAN\n",
    "    generator= create_generator()\n",
    "    discriminator = create_discriminator(input_dim = 784)\n",
    "    gan = create_gan(discriminator, generator)\n",
    "    \n",
    "    for e in range(1,epochs+1 ):\n",
    "        if e % 100 == 0:\n",
    "            print(\"Epoch %d\" %e)\n",
    "        for i in range(1):\n",
    "            # generate data from laten space  to  initialize the  generator\n",
    "            noise= np.random.uniform(low = -1, high=1, size=[batch_size, 100])\n",
    "            \n",
    "            # Generate fake MNIST images from noised input\n",
    "            generated_images = generator.predict(noise)\n",
    "            \n",
    "            # Get a random set of  real images\n",
    "            image_batch =x_train[np.random.randint(low=0,high=x_train.shape[0],size=batch_size)]\n",
    "            \n",
    "            # concat image_batch and generated_images\n",
    "            X= np.concatenate([image_batch, generated_images])\n",
    "            \n",
    "            # Labels for generated and real data\n",
    "            y=np.zeros(2*batch_size)\n",
    "            y[:batch_size]=0.9 #label smoothing\n",
    "            \n",
    "            #Pre train discriminator on  fake and real data  before starting the gan. \n",
    "            discriminator.trainable=True\n",
    "            loss_1 =discriminator.train_on_batch(X, y)\n",
    "            \n",
    "        d_loss.append(loss_1)\n",
    "        \n",
    "            \n",
    "            # Now train generator, get noise with \"Real\" labels\n",
    "        noise = np.random.uniform(low= -1, high=1, size=[batch_size * 8, 100])\n",
    "        y_gen = np.ones(batch_size * 8)\n",
    "        y_gen[:] = .9\n",
    "\n",
    "        # Turn off discrimnator training\n",
    "        discriminator.trainable=False\n",
    "\n",
    "        #train GAN ()   \n",
    "        loss_2 = gan.train_on_batch(noise, y_gen)\n",
    "        g_loss.append(loss_2)\n",
    "        \n",
    "        \n",
    "       \n",
    "            \n",
    "        if e % 200 == 0:\n",
    "            \n",
    "            print('d_loss', loss_1)\n",
    "            print('g_loss', loss_2) \n",
    "           \n",
    "            plot_generated_images(e, generator)\n",
    "            \n",
    "    return d_loss, g_loss\n",
    "d_loss, g_loss = training(epochs = 2000,batch_size =128)"
   ]
  },
  {
   "cell_type": "code",
   "execution_count": null,
   "metadata": {
    "collapsed": true
   },
   "outputs": [],
   "source": []
  },
  {
   "cell_type": "code",
   "execution_count": null,
   "metadata": {
    "collapsed": true
   },
   "outputs": [],
   "source": []
  },
  {
   "cell_type": "code",
   "execution_count": null,
   "metadata": {
    "collapsed": true
   },
   "outputs": [],
   "source": []
  }
 ],
 "metadata": {
  "kernelspec": {
   "display_name": "Python 3",
   "language": "python",
   "name": "python3"
  },
  "language_info": {
   "codemirror_mode": {
    "name": "ipython",
    "version": 3
   },
   "file_extension": ".py",
   "mimetype": "text/x-python",
   "name": "python",
   "nbconvert_exporter": "python",
   "pygments_lexer": "ipython3",
   "version": "3.6.7"
  }
 },
 "nbformat": 4,
 "nbformat_minor": 2
}
